{
 "cells": [
  {
   "cell_type": "markdown",
   "id": "75d04624-800b-4dd9-9f2b-f6808c338626",
   "metadata": {},
   "source": [
    "## Q1. What are the characteristics of the tuples? Is tuple immutable?\n",
    "# Ans:- Tuples have th\n",
    "given characterstics \n",
    "#They are indexed\n",
    "#Tuples are ordered \n",
    "#These are immutable\n",
    "#they can contain duplicate itemds"
   ]
  },
  {
   "cell_type": "markdown",
   "id": "76788f68-b8e8-4477-a7e4-bc957a372214",
   "metadata": {},
   "source": [
    "##Q2. What are the two tuple methods in python? Give an example of each method. Give a reason why\n",
    "tuples have only two in-built methods as compared to Lists.\n",
    "#Ans:-There are only two tuple methods count() and index() that a tuple object can call.;\n",
    "example below\n"
   ]
  },
  {
   "cell_type": "code",
   "execution_count": 4,
   "id": "4adc590d-c786-4b99-9ca6-f10923f18882",
   "metadata": {},
   "outputs": [
    {
     "name": "stdout",
     "output_type": "stream",
     "text": [
      "3\n"
     ]
    }
   ],
   "source": [
    "a = (1,2,3,4,5,6,4,3,4)\n",
    "b = a.count(4)\n",
    "print(b)"
   ]
  },
  {
   "cell_type": "code",
   "execution_count": 5,
   "id": "e50d1cba-23db-432b-b4d6-b2a68f9178c3",
   "metadata": {},
   "outputs": [
    {
     "name": "stdout",
     "output_type": "stream",
     "text": [
      "2\n"
     ]
    }
   ],
   "source": [
    "a  = (1,2,3,4,5,6,4,3,4,8,3,3,8)\n",
    "b = a.index(3)\n",
    "print(b)"
   ]
  },
  {
   "cell_type": "code",
   "execution_count": 9,
   "id": "d828d21a-be96-47de-8a45-90c84e165270",
   "metadata": {},
   "outputs": [
    {
     "name": "stdout",
     "output_type": "stream",
     "text": [
      "[1, 2, 3, 4]\n"
     ]
    }
   ],
   "source": [
    "#Q3. Which collection datatypes in python do not allow duplicate items? Write a code using a set to remove\n",
    "#duplicates from the given list.\n",
    "#Ans:-Set is a collection\n",
    "\n",
    "List = [1, 1, 1, 2, 1, 3, 1, 4, 2, 1, 2, 2, 2, 3, 2, 4, 3, 1, 3, 2, 3, 3, 3, 4, 4, 1, 4, 2, 4, 3, 4]\n",
    "a = set(List)\n",
    "print(list(a))"
   ]
  },
  {
   "cell_type": "code",
   "execution_count": 18,
   "id": "4b86aab1-8ac6-4cb5-be18-fc52e4267840",
   "metadata": {},
   "outputs": [
    {
     "name": "stdout",
     "output_type": "stream",
     "text": [
      "{1, 3, 4, 5, 6, 8, 63}\n",
      "None\n"
     ]
    }
   ],
   "source": [
    "##  Q4. Explain the difference between the union() and update() methods for a set. Give an example of\n",
    "##  each method.\n",
    "## Ans:-We yusse add() methos to add single value to a set. We use update() methos to add sequence values to a set.\n",
    "a = {1,3,5,6,3,4,8}\n",
    "b = {1,3,8,63}\n",
    "c = a.union(b)\n",
    "print(c)\n",
    "d = a.update(b)\n",
    "print(d)\n",
    "\n",
    "\n",
    "\n"
   ]
  },
  {
   "cell_type": "code",
   "execution_count": 19,
   "id": "75a2b2bd-5e8c-4ad9-9fc2-4076efd1cbd8",
   "metadata": {},
   "outputs": [
    {
     "name": "stdout",
     "output_type": "stream",
     "text": [
      "{1: 'One', 2: 'Two', 3: 'Three', 4: 'four'}\n"
     ]
    }
   ],
   "source": [
    "#  Q5. What is a dictionary? Give an example. Also, state whether a dictionary is ordered or unordered.\n",
    "#  Ans:- A dictionary is a collection which is ordered*, changeable and do not allow duplicates.\n",
    "# Example \n",
    "\n",
    "numbers = {1: \"One\", 2: \"Two\", 3: \"Three\"}\n",
    "numbers[4] = \"four\"\n",
    "print(numbers)\n",
    "\n"
   ]
  },
  {
   "cell_type": "code",
   "execution_count": 25,
   "id": "cc57968f-81ce-4c80-93c8-40f2e677226b",
   "metadata": {},
   "outputs": [
    {
     "name": "stdout",
     "output_type": "stream",
     "text": [
      "{'Dict1': {'name': 'sumedh', 'age': '19'}, 'Dict2': {'name': 'kittu', 'age': '12'}}\n"
     ]
    }
   ],
   "source": [
    "# Q6. Can we create a nested dictionary? If so, please give an example by creating a simple one-level\n",
    "# nested dictionary.\n",
    "# Ans:- yes\n",
    "dict =  { 'Dict1': {'name': 'sumedh', 'age': '19'},\n",
    "         'Dict2': {'name': 'kittu', 'age': '12'}}\n",
    "print(dict)"
   ]
  },
  {
   "cell_type": "code",
   "execution_count": 37,
   "id": "013facbc-63e1-4edb-8bf1-bbd2fe09646e",
   "metadata": {},
   "outputs": [
    {
     "name": "stdout",
     "output_type": "stream",
     "text": [
      "2\n"
     ]
    }
   ],
   "source": [
    "#  Q7. Using setdefault() method, create key named topics in the given dictionary and also add the value of\n",
    "#  the key as this list ['Python', 'Machine Learning’, 'Deep Learning']\n",
    "\n",
    "data_science = {\n",
    "    \"python\" : 1,\n",
    "    \"Machine Learning\" : 2,\n",
    "    \"Deep Learning\" : 3\n",
    "}\n",
    "x = data_science.setdefault(\"Machine Learning\" )\n",
    "print(x)"
   ]
  },
  {
   "cell_type": "code",
   "execution_count": 41,
   "id": "255bccfb-7ff6-487d-96d0-ee3e74f6838c",
   "metadata": {},
   "outputs": [
    {
     "name": "stdout",
     "output_type": "stream",
     "text": [
      "dict_keys(['Sport', 'Teams'])\n",
      "dict_values(['Cricket', ['India', 'Australia', 'England', 'South Africa', 'Sri Lanka', 'New Zealand']])\n",
      "dict_items([('Sport', 'Cricket'), ('Teams', ['India', 'Australia', 'England', 'South Africa', 'Sri Lanka', 'New Zealand'])])\n"
     ]
    }
   ],
   "source": [
    "#  Q8. What are the three view objects in dictionaries? Use the three in-built methods in python to display\n",
    "#  these three view objects for the given dictionary.\n",
    "\n",
    "dict1 = {'Sport': 'Cricket' , 'Teams': ['India', 'Australia', 'England', 'South Africa', 'Sri Lanka', 'New Zealand']}\n",
    "\n",
    "x = dict1.keys()\n",
    "print(x)\n",
    "\n",
    "\n",
    "y = dict1.values()\n",
    "print(y)\n",
    "\n",
    "\n",
    "z = dict1.items()\n",
    "print(z)"
   ]
  },
  {
   "cell_type": "code",
   "execution_count": null,
   "id": "a580245e-4ab9-43a9-a95a-9a3ff15d7a2f",
   "metadata": {},
   "outputs": [],
   "source": []
  }
 ],
 "metadata": {
  "kernelspec": {
   "display_name": "Python 3 (ipykernel)",
   "language": "python",
   "name": "python3"
  },
  "language_info": {
   "codemirror_mode": {
    "name": "ipython",
    "version": 3
   },
   "file_extension": ".py",
   "mimetype": "text/x-python",
   "name": "python",
   "nbconvert_exporter": "python",
   "pygments_lexer": "ipython3",
   "version": "3.10.8"
  }
 },
 "nbformat": 4,
 "nbformat_minor": 5
}
